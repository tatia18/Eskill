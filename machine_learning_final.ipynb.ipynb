{
 "cells": [
  {
   "cell_type": "markdown",
   "id": "b192562a-5cc3-49f8-a537-ca52b438bc84",
   "metadata": {},
   "source": [
    "# მანქანური სწავლება - ფინალური დავალება"
   ]
  },
  {
   "cell_type": "markdown",
   "id": "b609ee3a-21bb-4cd6-8675-ee935c28a5d4",
   "metadata": {},
   "source": [
    "კომპანია, რომელშიც მუშაობთ როგორც მონაცემთა მეცნიერი, თანამშრომლობს ერთ-ერთ საავადმყოფოსთან, სადაც იკვლევენ დიაბეტს. ამ საავადმყოფომ შეაგროვა\n",
    "ქალი პაციენტების მონაცემები. მათი მთავარი მიზანია დიაბეტის ადრეული დიაგნოსტირება პაციენტებში. თქვენი ამოცანაა დავალებასთან თანდართული მონაცემთა ფაილის ანალიზი, მოდელის შექმნა და დატრენინგებული მოდელის შეფასება."
   ]
  },
  {
   "cell_type": "markdown",
   "id": "72cee3bf-f707-4714-90b4-1421ccf530c0",
   "metadata": {},
   "source": [
    "## კოდების გაშვებისთვის საჭირო ბიბლიოთეკების იმპორტები"
   ]
  },
  {
   "cell_type": "code",
   "execution_count": null,
   "id": "initial_id",
   "metadata": {
    "ExecuteTime": {
     "end_time": "2024-09-05T15:40:28.335015001Z",
     "start_time": "2024-09-05T15:40:20.953521275Z"
    }
   },
   "outputs": [],
   "source": [
    "import datetime\n",
    "from itertools import product\n",
    "\n",
    "import lightgbm as lgb\n",
    "import matplotlib.pyplot as plt\n",
    "import numpy as np\n",
    "import pandas as pd\n",
    "import seaborn as sns\n",
    "import umap\n",
    "import xgboost as xgb\n",
    "from sklearn.decomposition import PCA\n",
    "from sklearn.ensemble import RandomForestClassifier\n",
    "from sklearn.linear_model import LogisticRegression\n",
    "from sklearn.metrics import (\n",
    "    accuracy_score,\n",
    "    confusion_matrix,\n",
    "    f1_score,\n",
    "    precision_score,\n",
    "    recall_score,\n",
    "    roc_auc_score,\n",
    "    roc_curve,\n",
    ")\n",
    "from sklearn.model_selection import StratifiedKFold, train_test_split\n",
    "from sklearn.preprocessing import StandardScaler\n",
    "from sklearn.tree import DecisionTreeClassifier"
   ]
  },
  {
   "cell_type": "markdown",
   "id": "921078ae-6b17-4322-a6d2-f8d6fe0a0c69",
   "metadata": {},
   "source": [
    "## სტილის არჩევა გრაფიკებისთვის"
   ]
  },
  {
   "cell_type": "code",
   "execution_count": null,
   "id": "a7e0cb40-ba0c-4b5a-8c98-f1e5f7cf967a",
   "metadata": {},
   "outputs": [],
   "source": [
    "sns.set_style(\"white\")\n",
    "sns.set_palette(\"Paired\")"
   ]
  },
  {
   "cell_type": "markdown",
   "id": "6539774e-842c-4753-86df-d346a4f674bb",
   "metadata": {},
   "source": [
    "## მონაცემთა ანალიზი"
   ]
  },
  {
   "cell_type": "markdown",
   "id": "e9d0774c-3f26-4132-80f8-d391e6f1de07",
   "metadata": {},
   "source": [
    "ფაილი შედგება 9 სვეტისგან:\n",
    "* **Pregnancies** - რამდენჯერ იყო პაციენტი ორსულად\n",
    "* **Glucose** - პლაზმური გლუკოზის კონცენტრაცია\n",
    "* **BloodPressure** - დიასტოლური არტერიული წნევა\n",
    "* **SkinThickness** - ტრიცეფსის კანის ნაკეცის სისქე\n",
    "* **Insulin** - ინსულინის დონე\n",
    "* **BMI** - სხეულის მასის ინდექსი\n",
    "* **DiabetesPedigreeFunction** - დიაბეტის ალბათობა ოჯახის ისტორიაზე დაყრდნობით\n",
    "* **Age** - პაციენტის ასაკი\n",
    "* **Outcome** - ტესტის შედეგები (1 - პაციენტს აქვს დიაბეტი, 0 - არ აქვს)"
   ]
  },
  {
   "cell_type": "code",
   "execution_count": null,
   "id": "22189158-3c12-45bd-943b-eddf4c9bac2c",
   "metadata": {},
   "outputs": [],
   "source": [
    "df = pd.read_csv(\"./data/diabetes.csv\")\n",
    "df.head()"
   ]
  },
  {
   "cell_type": "markdown",
   "id": "b29c4f7a-c235-475d-83a6-f2d9c73fc4ee",
   "metadata": {},
   "source": [
    "ვნახოთ მონაცემების ზომა:"
   ]
  },
  {
   "cell_type": "code",
   "execution_count": null,
   "id": "3f8bfbeb-1fa2-4902-898c-131f60519f17",
   "metadata": {},
   "outputs": [],
   "source": [
    "df.shape"
   ]
  },
  {
   "cell_type": "markdown",
   "id": "6de6306b-c948-43a6-b588-2ad462c68fbb",
   "metadata": {},
   "source": [
    "ვნახოთ მონაცემთა ტიპები:"
   ]
  },
  {
   "cell_type": "code",
   "execution_count": null,
   "id": "78c9aefd-906e-4ef8-b93a-59463b0e39e7",
   "metadata": {},
   "outputs": [],
   "source": [
    "df.dtypes"
   ]
  },
  {
   "cell_type": "markdown",
   "id": "cd4444f3-b614-492d-bf73-2ad0b606e5d4",
   "metadata": {},
   "source": [
    "ვნახოთ მარტივი აღწერითი სტატისტიკა:"
   ]
  },
  {
   "cell_type": "code",
   "execution_count": null,
   "id": "beec630f-6517-4cc9-b755-365fdee3db68",
   "metadata": {},
   "outputs": [],
   "source": [
    "df.describe()"
   ]
  },
  {
   "cell_type": "markdown",
   "id": "8efdff2f-f82c-43a1-a00f-fc34313af6f5",
   "metadata": {},
   "source": [
    "აუცილებელია დავაკვირდეთ გამოტოვებულ მონაცემებს:"
   ]
  },
  {
   "cell_type": "code",
   "execution_count": null,
   "id": "85c18739-f4d2-4fd9-955f-101a34d49abd",
   "metadata": {},
   "outputs": [],
   "source": [
    "df.info()"
   ]
  },
  {
   "cell_type": "code",
   "execution_count": null,
   "id": "b1bdff85-4c56-4329-86d9-fcc1f882ad5c",
   "metadata": {},
   "outputs": [],
   "source": [
    "pd.DataFrame(\n",
    "    {\n",
    "        \"Number of missing data\": df.isna().sum(),\n",
    "        \"Percentage of missing data\": (df.isna().sum() / len(df) * 100)\n",
    "        .round(2)\n",
    "        .astype(str)\n",
    "        + \"%\",\n",
    "    },\n",
    "    index=df.columns,\n",
    ")"
   ]
  },
  {
   "cell_type": "markdown",
   "id": "43323ead-facf-4813-8cfb-50c1f25fbfd7",
   "metadata": {},
   "source": [
    "რადგანაც ინსულინის დონის მონაცემების თითქმის 50% გამოტოვებულია, დავაკვირდეთ რომელი პაციენტებისთვისაა გამოტოვებული - დიაბეტის მქონე თუ ჯანმრთელი პაციენტებისთვის, იქნებ ჯანმრთელებისთვის არის გამოტოვებული მხოლოდ:"
   ]
  },
  {
   "cell_type": "code",
   "execution_count": null,
   "id": "0ce2a2c1-7671-4bd2-b66b-1730d359a1d8",
   "metadata": {},
   "outputs": [],
   "source": [
    "df[df[\"Insulin\"].isna()][\"Outcome\"].value_counts()"
   ]
  },
  {
   "cell_type": "markdown",
   "id": "6ed84f85-81f7-4595-b550-db32b7cb9bfd",
   "metadata": {},
   "source": [
    "როგორც ვხედავთ, ორივე კატეგორიის პაციენტებისთვისაა გამოტოვებული. რადგანაც ინსულინის დონე ლოგიკურად კავშირშია დიაბეტთან, ამიტომ ამ ცვლადის მახასიათებლად შენარჩუნებას ყველანაირად ვეცდებით - ანუ ამოვავსებთ გამოტოვებულ მნიშვნელობებს მასში."
   ]
  },
  {
   "cell_type": "markdown",
   "id": "f9fdf940-9088-4ae7-adac-81963f801aaa",
   "metadata": {},
   "source": [
    "სამიზნე ცვლადი არის **Outcome**, შესაბამისად, დავაკვირდეთ რამდენად დაბალანსირებულია:"
   ]
  },
  {
   "cell_type": "code",
   "execution_count": null,
   "id": "16621c8c-20b8-4da9-b976-3698f79003ea",
   "metadata": {},
   "outputs": [],
   "source": [
    "df[\"Outcome\"].value_counts()"
   ]
  },
  {
   "cell_type": "code",
   "execution_count": null,
   "id": "c39b2c47-c19c-44b9-aab7-be80d6b842c5",
   "metadata": {},
   "outputs": [],
   "source": [
    "(df[\"Outcome\"].value_counts(normalize=True) * 100).round(2).astype(str) + \"%\""
   ]
  },
  {
   "cell_type": "markdown",
   "id": "408a853f-f5de-495f-962a-8e674c5f259a",
   "metadata": {},
   "source": [
    "ვნახოთ თითოეული მახასიათებლის განაწილება:"
   ]
  },
  {
   "cell_type": "code",
   "execution_count": null,
   "id": "ae4d6027-26d7-447f-b068-fabc7a936a5e",
   "metadata": {},
   "outputs": [],
   "source": [
    "fig, axes = plt.subplots(4, 2, figsize=(14, 16))\n",
    "\n",
    "sns.histplot(df, x=\"Pregnancies\", hue=\"Outcome\", kde=True, ax=axes[0, 0])\n",
    "sns.histplot(df, x=\"Glucose\", hue=\"Outcome\", kde=True, ax=axes[0, 1])\n",
    "sns.histplot(df, x=\"BloodPressure\", hue=\"Outcome\", kde=True, ax=axes[1, 0])\n",
    "sns.histplot(df, x=\"SkinThickness\", hue=\"Outcome\", kde=True, ax=axes[1, 1])\n",
    "sns.histplot(df, x=\"Insulin\", hue=\"Outcome\", kde=True, ax=axes[2, 0])\n",
    "sns.histplot(df, x=\"BMI\", hue=\"Outcome\", kde=True, ax=axes[2, 1])\n",
    "sns.histplot(df, x=\"DiabetesPedigreeFunction\", hue=\"Outcome\", kde=True, ax=axes[3, 0])\n",
    "sns.histplot(df, x=\"Age\", hue=\"Outcome\", kde=True, ax=axes[3, 1])\n",
    "\n",
    "plt.tight_layout()\n",
    "plt.show()"
   ]
  },
  {
   "cell_type": "code",
   "execution_count": null,
   "id": "a8745e1a-9101-4486-b57a-38f48a87aa20",
   "metadata": {},
   "outputs": [],
   "source": [
    "fig, axes = plt.subplots(4, 2, figsize=(14, 16))\n",
    "\n",
    "sns.boxplot(df, x=\"Pregnancies\", ax=axes[0, 0])\n",
    "sns.boxplot(df, x=\"Glucose\", ax=axes[0, 1])\n",
    "sns.boxplot(df, x=\"BloodPressure\", ax=axes[1, 0])\n",
    "sns.boxplot(df, x=\"SkinThickness\", ax=axes[1, 1])\n",
    "sns.boxplot(df, x=\"Insulin\", ax=axes[2, 0])\n",
    "sns.boxplot(df, x=\"BMI\", ax=axes[2, 1])\n",
    "sns.boxplot(df, x=\"DiabetesPedigreeFunction\", ax=axes[3, 0])\n",
    "sns.boxplot(df, x=\"Age\", ax=axes[3, 1])\n",
    "\n",
    "plt.tight_layout()\n",
    "plt.show()"
   ]
  },
  {
   "cell_type": "markdown",
   "id": "3736c8e6-52c8-4c47-a860-82afcf213c0a",
   "metadata": {},
   "source": [
    "დავაკვირდეთ მახასიათებლების კორელაციას:"
   ]
  },
  {
   "cell_type": "code",
   "execution_count": null,
   "id": "b33bec7a-3962-4d72-9e03-a457aa12285d",
   "metadata": {},
   "outputs": [],
   "source": [
    "plt.figure(figsize=(8, 8))\n",
    "sns.heatmap(df.corr(), annot=True, square=True, cmap=\"Blues\")\n",
    "plt.show()"
   ]
  },
  {
   "cell_type": "markdown",
   "id": "1147cc77-9f4e-44d5-9232-156aee20f6f5",
   "metadata": {},
   "source": [
    "გამოვსახოთ მონაცემები ორ განზომილებიან გრაფიკზე განზომილების შემცირების ტექნიკის საშუალებით, თუმცა ერთი პრობლემაა - გამოტოვებული მნიშვნელობები. რადგანაც მხოლოდ და მხოლოდ ვიზუალურად გვინდა დაკვირვება, მაშინ ასეთი რამ ვქნათ, დროებით შევავსოთ გამოტოვებული ადგილები მთლიანი მონაცემების სტატისტიკაზე დაყრდნობით. როგორც გრაფიკებიდან ვხედავთ, აუთლაიერები გვაქვს უმეტესობა მახასიათებელში, თუმცა ზოგიერთი მათგანის აღწერით სტატისტიკაში ვხედავთ, რომ მათი საშუალო და მედიანა ერთმანეთთან ასე თუ ისე ახლოსაა. რადგანაც ყველა ცვლადი, სადაც გამოტოვებული მნიშვნელობა გვაქვს, შეგვიძლია მივიჩნიოთ უწყვეტ მონაცემად, გამოვიყენოთ მედიანა გამოტოვებული მნიშვნელობების შესავსებად:"
   ]
  },
  {
   "cell_type": "code",
   "execution_count": null,
   "id": "e4bf0fe3-dca6-4ab1-ab23-0c3a3897e1a8",
   "metadata": {},
   "outputs": [],
   "source": [
    "df_copy = df.copy()\n",
    "\n",
    "for column in df_copy.columns:\n",
    "    if df_copy[column].isna().sum() > 0:\n",
    "        df_copy.fillna({column: df_copy[column].median()}, inplace=True)"
   ]
  },
  {
   "cell_type": "code",
   "execution_count": null,
   "id": "82655e60-a1e8-47e3-92a4-eea6a4e88186",
   "metadata": {},
   "outputs": [],
   "source": [
    "df_copy.isna().sum()"
   ]
  },
  {
   "cell_type": "markdown",
   "id": "d632c51b-91c9-4d11-bb5c-a1ce9a5625db",
   "metadata": {},
   "source": [
    "აუცილებელია მონაცემების სკალირება/სტანდარტიზაცია, სანამ გამოვიყენებთ მანძილზე დაფუძნებულ ტექნიკებს, როგორიცაა PCA ან UMAP:"
   ]
  },
  {
   "cell_type": "code",
   "execution_count": null,
   "id": "ad84f50a-3991-45da-a152-5c1121e40e82",
   "metadata": {},
   "outputs": [],
   "source": [
    "X_copy_scaled = StandardScaler().fit_transform(df_copy.drop(columns=[\"Outcome\"]))"
   ]
  },
  {
   "cell_type": "code",
   "execution_count": null,
   "id": "63c6037a-5fd7-4ad3-bc75-28ce805daaf9",
   "metadata": {},
   "outputs": [],
   "source": [
    "pca = PCA(n_components=2, random_state=21)\n",
    "pca_reduced_X = pca.fit_transform(X_copy_scaled)\n",
    "\n",
    "plt.figure(figsize=(8, 8))\n",
    "sns.scatterplot(x=pca_reduced_X[:, 0], y=pca_reduced_X[:, 1], hue=df_copy[\"Outcome\"])\n",
    "plt.show()"
   ]
  },
  {
   "cell_type": "code",
   "execution_count": null,
   "id": "86851a7a-feec-42bc-9e7d-2354558f8b1e",
   "metadata": {},
   "outputs": [],
   "source": [
    "umap_obj = umap.UMAP(n_components=2, n_neighbors=5, n_jobs=1, random_state=21)\n",
    "umap_reduced_X = umap_obj.fit_transform(X_copy_scaled)\n",
    "\n",
    "plt.figure(figsize=(8, 8))\n",
    "sns.scatterplot(x=umap_reduced_X[:, 0], y=umap_reduced_X[:, 1], hue=df_copy[\"Outcome\"])\n",
    "plt.show()"
   ]
  },
  {
   "cell_type": "code",
   "execution_count": null,
   "id": "da0e633e-889a-4210-9620-a9a84070b77f",
   "metadata": {},
   "outputs": [],
   "source": [
    "del df_copy"
   ]
  },
  {
   "cell_type": "markdown",
   "id": "732e1454-d6cc-4464-a9d5-7963f2b31e8e",
   "metadata": {},
   "source": [
    "მონაცემების 80% გამოვიყენოთ HPO-სთვის და სატრენინგოდ, ხოლო დარჩენილი 20% სატესტოდ:"
   ]
  },
  {
   "cell_type": "code",
   "execution_count": null,
   "id": "072e7434-ab81-4b08-a191-b08a1a7b1bed",
   "metadata": {},
   "outputs": [],
   "source": [
    "X_train, X_test, y_train, y_test = train_test_split(\n",
    "    df.drop(columns=[\"Outcome\"]),\n",
    "    df[\"Outcome\"],\n",
    "    test_size=0.2,\n",
    "    random_state=21,\n",
    "    stratify=df[\"Outcome\"],\n",
    ")"
   ]
  },
  {
   "cell_type": "code",
   "execution_count": null,
   "id": "b950973a-ccf0-46c2-9cbe-6df69298ec34",
   "metadata": {},
   "outputs": [],
   "source": [
    "print(\"სატრენინგო მონაცემების ზომა:\", X_train.shape, y_train.shape)\n",
    "print(\"სატესტო მონაცემების ზომა:\", X_test.shape, y_test.shape)"
   ]
  },
  {
   "cell_type": "markdown",
   "id": "310c7076-16ee-43ca-a2e9-0a4585fa5b6a",
   "metadata": {},
   "source": [
    "## Logistic Regression vs. Decision Tree vs. Random Forest vs. XGBoost vs. LightGBM"
   ]
  },
  {
   "cell_type": "markdown",
   "id": "9f59ec82-5102-40ab-90cd-e619846bda60",
   "metadata": {},
   "source": [
    "დავალებაში მოცემული ალგორითმებიდან:\n",
    "\n",
    "* Linear Regression\n",
    "* Ridge\n",
    "* PCA\n",
    "* Logistic Regression\n",
    "* Decision Tree\n",
    "* Random Forest\n",
    "* XGBoost\n",
    "* LightGBM\n",
    "* KNN\n",
    "* K-Means\n",
    "* SVM\n",
    "\n",
    "შევადაროთ 5 ალგორითმი:\n",
    "\n",
    "* Logistic Regression\n",
    "* Decision Tree\n",
    "* Random Forest\n",
    "* XGBoost\n",
    "* LightGBM\n",
    "\n",
    "რა თქმა უნდა, ჰიპერპარამეტრების ოპტიმიზაციაც საჭიროა, თუმცა რესურსების შეზღუდვის გამო, ოდნავ მცირე ჰიპერპარამეტრების სივრცე გვექნება. შეფასების მეტრიკებად გამოვიყენებთ აკურატულობას, სიზუსტეს, გახსენებას, F1 ქულას და AUROC-ს. საუკეთესო მოდელსა და მის ჰიპერპარამეტრებს ამოვარჩევთ AUROC-ის საშუალებით, რადგანაც **ზედმეტად არადაბალანსირებული სამიზნე ცვლადი არ გვაქვს**."
   ]
  },
  {
   "cell_type": "markdown",
   "id": "809d2399-2805-443c-980c-3fe507c2d2f0",
   "metadata": {},
   "source": [
    "გავამზადოთ საჭირო ფუნქციები, რომელთაც HPO-სთვის გამოვიყენებთ:"
   ]
  },
  {
   "cell_type": "code",
   "execution_count": null,
   "id": "f4c0d231-25f3-4a44-81b2-751b0374a7ba",
   "metadata": {},
   "outputs": [],
   "source": [
    "def get_all_param_combinations(params_dict):\n",
    "    keys = params_dict.keys()\n",
    "    values = params_dict.values()\n",
    "\n",
    "    # ყველა კომბინაციის დაგენერირება\n",
    "    combinations = [dict(zip(keys, combination)) for combination in product(*values)]\n",
    "\n",
    "    return combinations\n",
    "\n",
    "\n",
    "def run_cv(alg, params, X, y, random_state=21):\n",
    "    accuracies = {}\n",
    "    precisions = {}\n",
    "    recalls = {}\n",
    "    f1s = {}\n",
    "    aurocs = {}\n",
    "\n",
    "    skf = StratifiedKFold(n_splits=3, shuffle=True, random_state=random_state)\n",
    "\n",
    "    for ind, (train_idx, valid_idx) in enumerate(skf.split(X, y)):\n",
    "        X_train, X_valid = X.iloc[train_idx].copy(), X.iloc[valid_idx].copy()\n",
    "        y_train, y_valid = y.iloc[train_idx], y.iloc[valid_idx]\n",
    "\n",
    "        # შევავსოთ გამოტოვებული მონაცემები სატრენინგოს მედიანათი\n",
    "        for column in X_train.columns:\n",
    "            if X_train[column].isna().sum() > 0 or X_valid[column].isna().sum():\n",
    "                train_median = X_train[column].median()\n",
    "                X_train.fillna({column: train_median}, inplace=True)\n",
    "                X_valid.fillna({column: train_median}, inplace=True)\n",
    "\n",
    "        # სტანდარტიზაცია სატრენინგო მონაცემების სტატისტიკით\n",
    "        scaler = StandardScaler()\n",
    "        scaler.fit(X_train)\n",
    "        X_train = scaler.transform(X_train)\n",
    "        X_valid = scaler.transform(X_valid)\n",
    "\n",
    "        # მოდელის ობიექტის შექმნა\n",
    "        if alg == \"logistic_regression\":\n",
    "            clf = LogisticRegression(random_state=random_state, **params)\n",
    "        elif alg == \"decision_tree\":\n",
    "            clf = DecisionTreeClassifier(random_state=random_state, **params)\n",
    "        elif alg == \"random_forest\":\n",
    "            clf = RandomForestClassifier(random_state=random_state, **params)\n",
    "        elif alg == \"xgboost\":\n",
    "            clf = xgb.XGBClassifier(random_state=random_state, **params)\n",
    "        elif alg == \"light_gbm\":\n",
    "            clf = lgb.LGBMClassifier(random_state=random_state, **params)\n",
    "        else:\n",
    "            raise ValueError(\"Invalid algorithm\")\n",
    "\n",
    "        clf.fit(X_train, y_train)\n",
    "\n",
    "        # შეფასების მეტრიკების გამოთვლა სატრენინგო და სავალიდაციო მონაცემებზე\n",
    "        train_preds = clf.predict(X_train)\n",
    "        valid_preds = clf.predict(X_valid)\n",
    "\n",
    "        accuracies[f\"accuracy_{ind}\"] = [\n",
    "            accuracy_score(y_train, train_preds),\n",
    "            accuracy_score(y_valid, valid_preds),\n",
    "        ]\n",
    "        precisions[f\"precision_{ind}\"] = [\n",
    "            precision_score(y_train, train_preds),\n",
    "            precision_score(y_valid, valid_preds),\n",
    "        ]\n",
    "        recalls[f\"recall_{ind}\"] = [\n",
    "            recall_score(y_train, train_preds),\n",
    "            recall_score(y_valid, valid_preds),\n",
    "        ]\n",
    "        f1s[f\"f1_{ind}\"] = [\n",
    "            f1_score(y_train, train_preds),\n",
    "            f1_score(y_valid, valid_preds),\n",
    "        ]\n",
    "        aurocs[f\"auroc_{ind}\"] = [\n",
    "            roc_auc_score(y_train, clf.predict_proba(X_train)[:, 1]),\n",
    "            roc_auc_score(y_valid, clf.predict_proba(X_valid)[:, 1]),\n",
    "        ]\n",
    "\n",
    "    metrics_df = pd.DataFrame(\n",
    "        dict(\n",
    "            {\"algorithm\": [alg, alg]},\n",
    "            **{\n",
    "                \"params\": [\n",
    "                    params | {\"random_state\": random_state},\n",
    "                    params | {\"random_state\": random_state},\n",
    "                ]\n",
    "            },\n",
    "            **{\"set\": [\"Training\", \"Validation\"]},\n",
    "            **accuracies,\n",
    "            **precisions,\n",
    "            **recalls,\n",
    "            **f1s,\n",
    "            **aurocs,\n",
    "        )\n",
    "    )\n",
    "\n",
    "    return metrics_df"
   ]
  },
  {
   "cell_type": "markdown",
   "id": "fc4c945a-9b91-4294-a5c4-2744ddcce20e",
   "metadata": {},
   "source": [
    "ჰიპერპარამეტრების სივრცე თითოეული ალგორითმისთვის:"
   ]
  },
  {
   "cell_type": "code",
   "execution_count": null,
   "id": "8c55de1d-90d9-401f-ac24-8170560a977b",
   "metadata": {},
   "outputs": [],
   "source": [
    "algorithms_and_params = {\n",
    "    \"logistic_regression\": {\n",
    "        \"penalty\": [\"l2\"],\n",
    "        \"C\": [0.5, 1, 5, 10],\n",
    "    },\n",
    "    \"decision_tree\": {\n",
    "        \"max_features\": [\"log2\", \"sqrt\", None],\n",
    "        \"min_samples_leaf\": [2, 4],\n",
    "        \"max_depth\": np.arange(3, 11),\n",
    "    },\n",
    "    \"random_forest\": {\n",
    "        \"n_estimators\": np.arange(10, 60, 10),\n",
    "        \"max_features\": [\"log2\", \"sqrt\", None],\n",
    "        \"min_samples_leaf\": [2, 4],\n",
    "        \"max_depth\": np.arange(3, 11),\n",
    "    },\n",
    "    \"xgboost\": {\n",
    "        \"objective\": [\"binary:logistic\"],\n",
    "        \"n_estimators\": np.arange(10, 60, 10),\n",
    "        \"max_leaves\": np.arange(10, 30, 5),\n",
    "        \"max_depth\": np.arange(3, 11),\n",
    "    },\n",
    "    \"light_gbm\": {\n",
    "        \"boosting_type\": [\"gbdt\"],\n",
    "        \"objective\": [\"binary\"],\n",
    "        \"force_col_wise\": [True],\n",
    "        \"deterministic\": [True],\n",
    "        \"verbose\": [-1],\n",
    "        \"n_estimators\": np.arange(10, 60, 10),\n",
    "        \"num_leaves\": np.arange(10, 30, 5),\n",
    "        \"max_depth\": np.arange(3, 11),\n",
    "    },\n",
    "}"
   ]
  },
  {
   "cell_type": "markdown",
   "id": "4e7d1012-44e3-4fa1-ab32-8eb4e9d8ee2c",
   "metadata": {},
   "source": [
    "თითოეული კომბინაციით ალგორითმის ტრენინგი და შედეგების შენახვა:"
   ]
  },
  {
   "cell_type": "code",
   "execution_count": null,
   "id": "c729d3d5-2198-4e82-88e6-14254f97e89b",
   "metadata": {},
   "outputs": [],
   "source": [
    "start_time = datetime.datetime.now()\n",
    "\n",
    "metrics_dfs = []\n",
    "\n",
    "for alg, params_dict in algorithms_and_params.items():\n",
    "    params_list = get_all_param_combinations(params_dict)\n",
    "\n",
    "    for params in params_list:\n",
    "        metrics_df = run_cv(alg, params, X_train, y_train)\n",
    "        metrics_dfs.append(metrics_df)\n",
    "\n",
    "    print(f\"{alg}: HPO is done.\")\n",
    "\n",
    "finish_time = datetime.datetime.now()\n",
    "print(f\"HPO is done in {finish_time - start_time}\")"
   ]
  },
  {
   "cell_type": "markdown",
   "id": "8c63bdba-d2c9-4648-9a18-bddc1ba130d9",
   "metadata": {},
   "source": [
    "შედეგების გაერთიანება ერთ ცხრილად:"
   ]
  },
  {
   "cell_type": "code",
   "execution_count": null,
   "id": "4a9c066f-aa9b-4f8c-9314-f98046fe45f9",
   "metadata": {},
   "outputs": [],
   "source": [
    "master_metrics_df = pd.concat(metrics_dfs, ignore_index=True)"
   ]
  },
  {
   "cell_type": "code",
   "execution_count": null,
   "id": "3098ae82-e012-4ab8-aae2-32b00738ca44",
   "metadata": {},
   "outputs": [],
   "source": [
    "len(master_metrics_df)"
   ]
  },
  {
   "cell_type": "markdown",
   "id": "825f6bb0-b7c7-45bd-9b46-8b42cfea8999",
   "metadata": {},
   "source": [
    "ჯამში ყველა მოდელისთვის გვქონდა ჰიპერპარამეტრების 612 კომბინაცია. რადგანაც როგორც სატრენინგო, ასევე სავალიდაციო ნაწილების შედეგებიც შევინახეთ, ამიტომ ცხრილში გვაქვს 1224 ჩანაწერი."
   ]
  },
  {
   "cell_type": "markdown",
   "id": "4ced1072-4fa2-4870-a930-cc7f93171483",
   "metadata": {},
   "source": [
    "თითოეული შეფასების მეტრიკისთვის სატრენინგო და სავალიდაციო ნაწილების საშუალო არითმეტიკულისა და სტანდარტული გადახრის გამოთვლა:"
   ]
  },
  {
   "cell_type": "code",
   "execution_count": null,
   "id": "2e3a5431-3334-49f2-bc67-8c524e5943fa",
   "metadata": {},
   "outputs": [],
   "source": [
    "master_metrics_df[\"accuracy_avg\"] = master_metrics_df[\n",
    "    [\"accuracy_0\", \"accuracy_1\", \"accuracy_2\"]\n",
    "].mean(axis=\"columns\")\n",
    "master_metrics_df[\"accuracy_std\"] = master_metrics_df[\n",
    "    [\"accuracy_0\", \"accuracy_1\", \"accuracy_2\"]\n",
    "].std(axis=\"columns\")\n",
    "\n",
    "master_metrics_df[\"precision_avg\"] = master_metrics_df[\n",
    "    [\"precision_0\", \"precision_1\", \"precision_2\"]\n",
    "].mean(axis=\"columns\")\n",
    "master_metrics_df[\"precision_std\"] = master_metrics_df[\n",
    "    [\"precision_0\", \"precision_1\", \"precision_2\"]\n",
    "].std(axis=\"columns\")\n",
    "\n",
    "master_metrics_df[\"recall_avg\"] = master_metrics_df[\n",
    "    [\"recall_0\", \"recall_1\", \"recall_2\"]\n",
    "].mean(axis=\"columns\")\n",
    "master_metrics_df[\"recall_std\"] = master_metrics_df[\n",
    "    [\"recall_0\", \"recall_1\", \"recall_2\"]\n",
    "].std(axis=\"columns\")\n",
    "\n",
    "master_metrics_df[\"f1_avg\"] = master_metrics_df[[\"f1_0\", \"f1_1\", \"f1_2\"]].mean(\n",
    "    axis=\"columns\"\n",
    ")\n",
    "master_metrics_df[\"f1_std\"] = master_metrics_df[[\"f1_0\", \"f1_1\", \"f1_2\"]].std(\n",
    "    axis=\"columns\"\n",
    ")\n",
    "\n",
    "master_metrics_df[\"auroc_avg\"] = master_metrics_df[\n",
    "    [\"auroc_0\", \"auroc_1\", \"auroc_2\"]\n",
    "].mean(axis=\"columns\")\n",
    "master_metrics_df[\"auroc_std\"] = master_metrics_df[\n",
    "    [\"auroc_0\", \"auroc_1\", \"auroc_2\"]\n",
    "].std(axis=\"columns\")"
   ]
  },
  {
   "cell_type": "markdown",
   "id": "42934865-8e3c-4529-bcdc-feff817f5541",
   "metadata": {},
   "source": [
    "საშუალო AUROC-ზე დაყრდნობით სავალიდაციო მონაცემებში საუკეთესო ალგორითმისა და მისი ჰიპერპარამეტრების ამორჩევა:"
   ]
  },
  {
   "cell_type": "code",
   "execution_count": null,
   "id": "e6661dea-60d1-4818-87bd-d8efffd5ca67",
   "metadata": {},
   "outputs": [],
   "source": [
    "best_params = master_metrics_df.loc[\n",
    "    master_metrics_df[master_metrics_df[\"set\"] == \"Validation\"][\"auroc_avg\"].argmax()\n",
    "][\"params\"]"
   ]
  },
  {
   "cell_type": "code",
   "execution_count": null,
   "id": "1f5d19f7-7d2d-430f-8038-6a11d0b73c79",
   "metadata": {},
   "outputs": [],
   "source": [
    "master_metrics_df[master_metrics_df[\"params\"] == best_params]"
   ]
  },
  {
   "cell_type": "code",
   "execution_count": null,
   "id": "9f8f2c17-7ae1-4127-9da0-57a2197beee9",
   "metadata": {},
   "outputs": [],
   "source": [
    "best_params"
   ]
  },
  {
   "cell_type": "markdown",
   "id": "55448607-0921-4deb-9522-a7bd9abb267f",
   "metadata": {},
   "source": [
    "როგორც შედეგებიდან ჩანს, საუკეთესო მოდელია ლოჯისტიკური რეგრესია."
   ]
  },
  {
   "cell_type": "markdown",
   "id": "f4f2fb26-005e-400a-a6df-65a170289f94",
   "metadata": {},
   "source": [
    "მაინც დავაკვირდეთ კიდევ სხვა რომელიმე მოდელს ხომ არ აქვს ვალიდაციის მონაცემებზე 0.83-ზე მეტი AUROC:"
   ]
  },
  {
   "cell_type": "code",
   "execution_count": null,
   "id": "cdc69ce5-b7ac-4c99-a340-e6e685358954",
   "metadata": {},
   "outputs": [],
   "source": [
    "master_metrics_df[\n",
    "    (master_metrics_df[\"set\"] == \"Validation\") & (master_metrics_df[\"auroc_avg\"] > 0.83)\n",
    "]"
   ]
  },
  {
   "cell_type": "markdown",
   "id": "5638e29a-ea11-481e-ad72-9bda71b6d280",
   "metadata": {},
   "source": [
    "## საბოლოო მოდელის ტრენინგი და შეფასება"
   ]
  },
  {
   "cell_type": "markdown",
   "id": "ed00cab0-8bdf-4320-a139-c9a04c09794f",
   "metadata": {},
   "source": [
    "რა თქმა უნდა, მონაცემები მსგავსად უნდა დამუშავდეს, როგორც ჯვარედინი ვალიდაციისას მოხდა:"
   ]
  },
  {
   "cell_type": "code",
   "execution_count": null,
   "id": "28fb028e-f2d3-4c94-a359-962d90aba2f7",
   "metadata": {},
   "outputs": [],
   "source": [
    "for column in X_train.columns:\n",
    "    if X_train[column].isna().sum() > 0 or X_test[column].isna().sum() > 0:\n",
    "        train_median = X_train[column].median()\n",
    "        X_train.fillna({column: train_median}, inplace=True)\n",
    "        X_test.fillna({column: train_median}, inplace=True)\n",
    "\n",
    "scaler = StandardScaler()\n",
    "scaler.fit(X_train)\n",
    "X_train = scaler.transform(X_train)\n",
    "X_test = scaler.transform(X_test)"
   ]
  },
  {
   "cell_type": "markdown",
   "id": "69f15d32-b1d2-4dc5-9d0e-a92ffc578536",
   "metadata": {},
   "source": [
    "დავატრენინგოთ ლოჯისტიკური რეგრესია საუკეთესო ჰიპერპარამეტრებით:"
   ]
  },
  {
   "cell_type": "code",
   "execution_count": null,
   "id": "4bd0b5eb-0087-4e12-8c14-dfd61b529bc3",
   "metadata": {},
   "outputs": [],
   "source": [
    "log_reg = LogisticRegression(**best_params)\n",
    "log_reg.fit(X_train, y_train)"
   ]
  },
  {
   "cell_type": "markdown",
   "id": "79463eca-ad6f-42ba-88dd-b4d877805f3a",
   "metadata": {},
   "source": [
    "ვნახოთ მისი შეფასების მეტრიკები როგორც სატრენინგო, ასევე სატესტო მონაცემებზე:"
   ]
  },
  {
   "cell_type": "code",
   "execution_count": null,
   "id": "61ab145b-eed9-435e-891a-898d8a4e4977",
   "metadata": {},
   "outputs": [],
   "source": [
    "train_preds = log_reg.predict(X_train)\n",
    "test_preds = log_reg.predict(X_test)\n",
    "\n",
    "metrics_df = pd.DataFrame(\n",
    "    {\n",
    "        \"accuracy\": [\n",
    "            accuracy_score(y_train, train_preds),\n",
    "            accuracy_score(y_test, test_preds),\n",
    "        ],\n",
    "        \"precision\": [\n",
    "            precision_score(y_train, train_preds),\n",
    "            precision_score(y_test, test_preds),\n",
    "        ],\n",
    "        \"recall\": [\n",
    "            recall_score(y_train, train_preds),\n",
    "            recall_score(y_test, test_preds),\n",
    "        ],\n",
    "        \"f1\": [f1_score(y_train, train_preds), f1_score(y_test, test_preds)],\n",
    "        \"auroc\": [\n",
    "            roc_auc_score(y_train, log_reg.predict_proba(X_train)[:, 1]),\n",
    "            roc_auc_score(y_test, log_reg.predict_proba(X_test)[:, 1]),\n",
    "        ],\n",
    "    },\n",
    "    index=[\"Training\", \"Test\"],\n",
    ")\n",
    "metrics_df"
   ]
  },
  {
   "cell_type": "markdown",
   "id": "f0c55f58-c17b-4c7b-ac03-86db8f3eca5b",
   "metadata": {},
   "source": [
    "დავაკვირდეთ დაბნეულობის მატრიცას სატრენინგო და სატესტო მონაცემებზე:"
   ]
  },
  {
   "cell_type": "code",
   "execution_count": null,
   "id": "a919b23d-ab00-466b-b4c1-e9ab14b789a4",
   "metadata": {},
   "outputs": [],
   "source": [
    "fig, (ax_1, ax_2) = plt.subplots(1, 2, figsize=(14, 7))\n",
    "\n",
    "train_cm = confusion_matrix(y_train, train_preds)\n",
    "sns.heatmap(train_cm, annot=True, cmap=\"Blues\", fmt=\"g\", square=True, ax=ax_1)\n",
    "ax_1.tick_params(axis=\"y\", labelrotation=0)\n",
    "ax_1.set_title(\"Training\")\n",
    "ax_1.set_ylabel(\"Actual Label\")\n",
    "ax_1.set_xlabel(\"Predicted Label\")\n",
    "\n",
    "\n",
    "test_cm = confusion_matrix(y_test, test_preds)\n",
    "sns.heatmap(test_cm, annot=True, cmap=\"Blues\", fmt=\"g\", square=True, ax=ax_2)\n",
    "ax_2.tick_params(axis=\"y\", labelrotation=0)\n",
    "ax_2.set_title(\"Test\")\n",
    "ax_2.set_ylabel(\"Actual Label\")\n",
    "ax_2.set_xlabel(\"Predicted Label\")\n",
    "\n",
    "plt.show()"
   ]
  },
  {
   "cell_type": "markdown",
   "id": "fb0e2f81-4f7f-4460-98c7-a10110c4b9ab",
   "metadata": {},
   "source": [
    "დავაკვირდეთ ROC მრუდს სატრენინგო და სატესტო მონაცემებზე:"
   ]
  },
  {
   "cell_type": "code",
   "execution_count": null,
   "id": "b7b542b9-f92b-429d-826a-cd7f22576a19",
   "metadata": {},
   "outputs": [],
   "source": [
    "plt.figure(figsize=(10, 6))\n",
    "\n",
    "y_train_pred_proba = log_reg.predict_proba(X_train)[:, 1]\n",
    "train_fpr, train_tpr, _ = roc_curve(y_train, y_train_pred_proba)\n",
    "train_auc = roc_auc_score(y_train, y_train_pred_proba)\n",
    "plt.plot(train_fpr, train_tpr, label=f\"Training (AUC={train_auc:.2f})\")\n",
    "\n",
    "y_test_pred_proba = log_reg.predict_proba(X_test)[:, 1]\n",
    "test_fpr, test_tpr, _ = roc_curve(y_test, y_test_pred_proba)\n",
    "test_auc = roc_auc_score(y_test, y_test_pred_proba)\n",
    "plt.plot(test_fpr, test_tpr, label=f\"Test (AUC={test_auc:.2f})\")\n",
    "\n",
    "plt.plot([0, 1], [0, 1], linestyle=\"--\", color=\"grey\", label=\"Random (AUC=0.5)\")\n",
    "\n",
    "plt.xlabel(\"False Positive Rate\")\n",
    "plt.ylabel(\"True Positive Rate\")\n",
    "plt.title(\"Receiver Operating Characteristic (ROC) Curve\")\n",
    "plt.legend(loc=\"lower right\")\n",
    "plt.show()"
   ]
  }
 ],
 "metadata": {
  "kernelspec": {
   "display_name": "Python 3 (ipykernel)",
   "language": "python",
   "name": "python3"
  },
  "language_info": {
   "codemirror_mode": {
    "name": "ipython",
    "version": 3
   },
   "file_extension": ".py",
   "mimetype": "text/x-python",
   "name": "python",
   "nbconvert_exporter": "python",
   "pygments_lexer": "ipython3",
   "version": "3.12.4"
  }
 },
 "nbformat": 4,
 "nbformat_minor": 5
}
